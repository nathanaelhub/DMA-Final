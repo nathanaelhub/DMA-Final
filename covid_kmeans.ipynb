{
 "cells": [
  {
   "cell_type": "code",
   "execution_count": 1,
   "id": "0192e177",
   "metadata": {},
   "outputs": [],
   "source": [
    "import pandas as pd\n",
    "from pandas import DataFrame\n",
    "import matplotlib.pyplot as plt\n",
    "from sklearn.linear_model import LinearRegression\n",
    "from sklearn.decomposition import PCA\n",
    "import seaborn as sns"
   ]
  },
  {
   "cell_type": "code",
   "execution_count": 3,
   "id": "1f68f172",
   "metadata": {},
   "outputs": [],
   "source": [
    "covid_data = pd.read_csv('covid_cleaned.csv')\n",
    "X = DataFrame(covid_data, columns=['cdc_case_earliest_dt '])\n",
    "y = DataFrame(covid_data, columns=['death_yn'])"
   ]
  },
  {
   "cell_type": "code",
   "execution_count": 4,
   "id": "02f07b6a",
   "metadata": {},
   "outputs": [],
   "source": [
    "test = []\n",
    "for index, k in X.iterrows():\n",
    "    #print(k['cdc_case_earliest_dt '])\n",
    "    hold = str(k['cdc_case_earliest_dt '])\n",
    "    hold = hold[:4] + hold[5:7] + hold[8:]\n",
    "    test.append(hold)"
   ]
  },
  {
   "cell_type": "code",
   "execution_count": 5,
   "id": "e623de19",
   "metadata": {},
   "outputs": [],
   "source": [
    "test2 = []\n",
    "for k in test:\n",
    "    test2.append(k)"
   ]
  },
  {
   "cell_type": "code",
   "execution_count": 6,
   "id": "de91cd5d",
   "metadata": {},
   "outputs": [],
   "source": [
    "covid_data['cdc_case_int'] = test2"
   ]
  },
  {
   "cell_type": "code",
   "execution_count": 7,
   "id": "cdcbb08c",
   "metadata": {},
   "outputs": [],
   "source": [
    "#death\n",
    "test = []\n",
    "for index, k in y.iterrows():\n",
    "    hold = k['death_yn']\n",
    "    if(hold[0] == 'N'): hold = 0\n",
    "    else: hold = 1\n",
    "    test.append(hold)"
   ]
  },
  {
   "cell_type": "code",
   "execution_count": 8,
   "id": "16309a04",
   "metadata": {},
   "outputs": [],
   "source": [
    "covid_data['die'] = test"
   ]
  },
  {
   "cell_type": "code",
   "execution_count": 9,
   "id": "8e58a1cf",
   "metadata": {},
   "outputs": [],
   "source": [
    "from sklearn.cluster import KMeans\n",
    "import numpy as np"
   ]
  },
  {
   "cell_type": "code",
   "execution_count": 27,
   "id": "985a4a72",
   "metadata": {},
   "outputs": [],
   "source": [
    "te = []\n",
    "for t in covid_data['cdc_case_int']:\n",
    "    te.append([t])\n",
    "count = 0\n",
    "for e in covid_data['die']:\n",
    "    te[count].append(e)\n",
    "    count = count + 1\n",
    "ser = np.array(te)"
   ]
  },
  {
   "cell_type": "code",
   "execution_count": null,
   "id": "f304a08d",
   "metadata": {},
   "outputs": [],
   "source": []
  },
  {
   "cell_type": "code",
   "execution_count": 43,
   "id": "8cc159e8",
   "metadata": {},
   "outputs": [],
   "source": [
    "kmeans = KMeans(n_clusters=3, random_state = 11).fit(ser)"
   ]
  },
  {
   "cell_type": "code",
   "execution_count": 44,
   "id": "119c9542",
   "metadata": {},
   "outputs": [],
   "source": [
    "pca = PCA(n_components=2, random_state=11).fit(ser)"
   ]
  },
  {
   "cell_type": "code",
   "execution_count": 45,
   "id": "8fbd083a",
   "metadata": {},
   "outputs": [
    {
     "data": {
      "text/plain": [
       "(1094551, 2)"
      ]
     },
     "execution_count": 45,
     "metadata": {},
     "output_type": "execute_result"
    }
   ],
   "source": [
    "covid_pca = pca.transform(ser)\n",
    "covid_pca.shape"
   ]
  },
  {
   "cell_type": "code",
   "execution_count": 46,
   "id": "cc41d8c8",
   "metadata": {},
   "outputs": [
    {
     "data": {
      "image/png": "[encoded data removed]",
      "text/plain": [
       "<Figure size 432x288 with 1 Axes>"
      ]
     },
     "metadata": {
      "needs_background": "light"
     },
     "output_type": "display_data"
    }
   ],
   "source": [
    "covid_pca_df = pd.DataFrame(covid_pca, columns=['cdc_case_int','die'])\n",
    "covid_pca_df['death'] = covid_data['die']\n",
    "axes = sns.scatterplot(data = covid_pca_df, x='cdc_case_int', y='die', hue = 'death', legend = 'brief', palette = 'cool')\n",
    "\n",
    "covid_centers = pca.transform(kmeans.cluster_centers_)\n",
    "dots = plt.scatter(covid_centers[:,0], covid_centers[:,1],s=100, c='k')"
   ]
  },
  {
   "cell_type": "code",
   "execution_count": null,
   "id": "ebeadcd1",
   "metadata": {},
   "outputs": [],
   "source": []
  },
  {
   "cell_type": "code",
   "execution_count": null,
   "id": "d8aa87b4",
   "metadata": {},
   "outputs": [],
   "source": []
  }
 ],
 "metadata": {
  "kernelspec": {
   "display_name": "Python 3 (ipykernel)",
   "language": "python",
   "name": "python3"
  },
  "language_info": {
   "codemirror_mode": {
    "name": "ipython",
    "version": 3
   },
   "file_extension": ".py",
   "mimetype": "text/x-python",
   "name": "python",
   "nbconvert_exporter": "python",
   "pygments_lexer": "ipython3",
   "version": "3.9.7"
  }
 },
 "nbformat": 4,
 "nbformat_minor": 5
}
