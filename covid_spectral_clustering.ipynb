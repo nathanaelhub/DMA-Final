{
 "cells": [
  {
   "cell_type": "code",
   "execution_count": 2,
   "id": "6a6e08ad",
   "metadata": {},
   "outputs": [],
   "source": [
    "import pandas as pd\n",
    "import seaborn as sns\n",
    "import numpy as np\n",
    "import matplotlib.pyplot as plt\n",
    "from sklearn.cluster import SpectralClustering\n",
    "from pandas import DataFrame"
   ]
  },
  {
   "cell_type": "code",
   "execution_count": 3,
   "id": "25d8402a",
   "metadata": {},
   "outputs": [],
   "source": [
    "covid_data = pd.read_csv('covid_cleaned.csv')\n",
    "covid_data = covid_data[covid_data['hosp_yn'] != 'Unknown']\n",
    "covid_data = covid_data[covid_data['hosp_yn'] != 'Missing']"
   ]
  },
  {
   "cell_type": "code",
   "execution_count": 4,
   "id": "2bade173",
   "metadata": {},
   "outputs": [],
   "source": [
    "X = DataFrame(covid_data, columns=['cdc_case_earliest_dt '])\n",
    "y = DataFrame(covid_data, columns=['death_yn'])"
   ]
  },
  {
   "cell_type": "code",
   "execution_count": 5,
   "id": "4a5903bf",
   "metadata": {},
   "outputs": [],
   "source": [
    "test = []\n",
    "for index, k in X.iterrows():\n",
    "    #print(k['cdc_case_earliest_dt '])\n",
    "    hold = str(k['cdc_case_earliest_dt '])\n",
    "    hold = hold[:4] + hold[5:7] + hold[8:]\n",
    "    test.append(hold)"
   ]
  },
  {
   "cell_type": "code",
   "execution_count": 6,
   "id": "93d3d0ab",
   "metadata": {},
   "outputs": [],
   "source": [
    "test2 = []\n",
    "for k in test:\n",
    "    test2.append(k)"
   ]
  },
  {
   "cell_type": "code",
   "execution_count": 7,
   "id": "08242b91",
   "metadata": {},
   "outputs": [],
   "source": [
    "covid_data['cdc_case_int'] = test2"
   ]
  },
  {
   "cell_type": "code",
   "execution_count": 8,
   "id": "cb3cd93e",
   "metadata": {},
   "outputs": [],
   "source": [
    "test = []\n",
    "for index, k in y.iterrows():\n",
    "    #print(k['cdc_case_earliest_dt '])\n",
    "    hold = k['death_yn']\n",
    "    if(hold[0] =='N'): hold = 1\n",
    "    else: hold = 2\n",
    "    test.append(hold)"
   ]
  },
  {
   "cell_type": "code",
   "execution_count": 9,
   "id": "6c0295e6",
   "metadata": {},
   "outputs": [],
   "source": [
    "covid_data['death_int'] = test"
   ]
  },
  {
   "cell_type": "code",
   "execution_count": 10,
   "id": "8a14c50c",
   "metadata": {},
   "outputs": [],
   "source": [
    "ser2 = covid_data['death_int'].to_numpy()"
   ]
  },
  {
   "cell_type": "code",
   "execution_count": 11,
   "id": "8ead7ff0",
   "metadata": {},
   "outputs": [],
   "source": [
    "ser = covid_data['cdc_case_int'].to_numpy()"
   ]
  },
  {
   "cell_type": "code",
   "execution_count": 12,
   "id": "79718642",
   "metadata": {},
   "outputs": [],
   "source": [
    "cd = {'cdc_case_int':test2, 'death_int': test}"
   ]
  },
  {
   "cell_type": "code",
   "execution_count": 13,
   "id": "35143ccb",
   "metadata": {},
   "outputs": [],
   "source": [
    "cd = pd.DataFrame(cd)"
   ]
  },
  {
   "cell_type": "code",
   "execution_count": 14,
   "id": "f37a7f82",
   "metadata": {},
   "outputs": [
    {
     "name": "stdout",
     "output_type": "stream",
     "text": [
      "        cdc_case_int  death_int\n",
      "0           20210803          1\n",
      "1           20211220          1\n",
      "2           20210206          1\n",
      "3           20200714          1\n",
      "4           20201227          1\n",
      "...              ...        ...\n",
      "1077887     20201102          1\n",
      "1077888     20201127          1\n",
      "1077889     20210727          1\n",
      "1077890     20211029          1\n",
      "1077891     20210413          1\n",
      "\n",
      "[1077892 rows x 2 columns]\n"
     ]
    }
   ],
   "source": [
    "print(cd)"
   ]
  },
  {
   "cell_type": "code",
   "execution_count": null,
   "id": "de7c3662",
   "metadata": {},
   "outputs": [],
   "source": [
    "sc = SpectralClustering(n_clusters=2).fit(cd)"
   ]
  },
  {
   "cell_type": "code",
   "execution_count": null,
   "id": "e1f406b0",
   "metadata": {},
   "outputs": [],
   "source": []
  }
 ],
 "metadata": {
  "kernelspec": {
   "display_name": "Python 3 (ipykernel)",
   "language": "python",
   "name": "python3"
  },
  "language_info": {
   "codemirror_mode": {
    "name": "ipython",
    "version": 3
   },
   "file_extension": ".py",
   "mimetype": "text/x-python",
   "name": "python",
   "nbconvert_exporter": "python",
   "pygments_lexer": "ipython3",
   "version": "3.9.7"
  }
 },
 "nbformat": 4,
 "nbformat_minor": 5
}
