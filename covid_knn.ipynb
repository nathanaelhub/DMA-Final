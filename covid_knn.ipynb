{
 "cells": [
  {
   "cell_type": "code",
   "execution_count": 19,
   "id": "e351dfad",
   "metadata": {},
   "outputs": [],
   "source": [
    "import pandas as pd\n",
    "from pandas import DataFrame\n",
    "import matplotlib.pyplot as plt\n",
    "from sklearn.linear_model import LinearRegression"
   ]
  },
  {
   "cell_type": "code",
   "execution_count": 20,
   "id": "d56c525a",
   "metadata": {},
   "outputs": [],
   "source": [
    "covid_data = pd.read_csv('covid_cleaned.csv')\n",
    "del covid_data['current_status']\n",
    "X = DataFrame(covid_data, columns=['cdc_case_earliest_dt '])\n",
    "y = DataFrame(covid_data, columns=['death_yn'])"
   ]
  },
  {
   "cell_type": "code",
   "execution_count": 21,
   "id": "779b0f8a",
   "metadata": {},
   "outputs": [],
   "source": [
    "#date\n",
    "test = []\n",
    "for index, k in X.iterrows():\n",
    "    hold = str(k['cdc_case_earliest_dt '])\n",
    "    hold = hold[:4] + hold[5:7] + hold[8:]\n",
    "    test.append(hold)"
   ]
  },
  {
   "cell_type": "code",
   "execution_count": 22,
   "id": "985a38f9",
   "metadata": {},
   "outputs": [],
   "source": [
    "test2 = []\n",
    "for k in test:\n",
    "    test2.append(int(k))"
   ]
  },
  {
   "cell_type": "code",
   "execution_count": 23,
   "id": "6ee5284b",
   "metadata": {},
   "outputs": [],
   "source": [
    "covid_data['date'] = test2"
   ]
  },
  {
   "cell_type": "code",
   "execution_count": 24,
   "id": "c93752c9",
   "metadata": {},
   "outputs": [],
   "source": [
    "#death\n",
    "test = []\n",
    "for index, k in y.iterrows():\n",
    "    hold = k['death_yn']\n",
    "    if(hold[0] == 'N'): hold = 0\n",
    "    else: hold = 1\n",
    "    test.append(hold)"
   ]
  },
  {
   "cell_type": "code",
   "execution_count": 25,
   "id": "7b1654a8",
   "metadata": {},
   "outputs": [],
   "source": [
    "covid_data['die'] = test"
   ]
  },
  {
   "cell_type": "code",
   "execution_count": 26,
   "id": "7869702c",
   "metadata": {},
   "outputs": [],
   "source": [
    "X = DataFrame(covid_data, columns=['date'])\n",
    "y = DataFrame(covid_data, columns=['die'])"
   ]
  },
  {
   "cell_type": "code",
   "execution_count": 27,
   "id": "4912c3ec",
   "metadata": {},
   "outputs": [],
   "source": [
    "from sklearn.neighbors import KNeighborsClassifier\n",
    "from sklearn.preprocessing import StandardScaler\n",
    "from sklearn.model_selection import train_test_split\n",
    "import numpy as np"
   ]
  },
  {
   "cell_type": "code",
   "execution_count": 37,
   "id": "fd51e456",
   "metadata": {},
   "outputs": [],
   "source": [
    "data = {'date':covid_data['date'].to_numpy(),'death_tf':covid_data['die'].to_numpy()}\n",
    "df = pd.DataFrame(data)\n",
    "X = df.iloc[:,:-1].values\n",
    "y = df.iloc[:,1].values\n",
    "X_train,X_test,y_train,y_test = train_test_split(X,y,test_size=0.2)\n",
    "scaler = StandardScaler()\n",
    "scaler.fit(X_train)\n",
    "\n",
    "X_train = scaler.transform(X_train)\n",
    "X_test = scaler.transform(X_test)"
   ]
  },
  {
   "cell_type": "code",
   "execution_count": 38,
   "id": "9aafdec4",
   "metadata": {},
   "outputs": [
    {
     "data": {
      "text/plain": [
       "KNeighborsClassifier()"
      ]
     },
     "execution_count": 38,
     "metadata": {},
     "output_type": "execute_result"
    }
   ],
   "source": [
    "classifier = KNeighborsClassifier(n_neighbors=5)\n",
    "classifier.fit(X_train,y_train)"
   ]
  },
  {
   "cell_type": "code",
   "execution_count": 40,
   "id": "09b3fa7d",
   "metadata": {},
   "outputs": [],
   "source": [
    "y_pred = classifier.predict(X_test)"
   ]
  },
  {
   "cell_type": "code",
   "execution_count": 41,
   "id": "908b0a9b",
   "metadata": {},
   "outputs": [
    {
     "name": "stdout",
     "output_type": "stream",
     "text": [
      "[[205734   1054]\n",
      " [ 11886    237]]\n"
     ]
    }
   ],
   "source": [
    "from sklearn.metrics import classification_report, confusion_matrix\n",
    "print(confusion_matrix(y_test,y_pred))"
   ]
  },
  {
   "cell_type": "code",
   "execution_count": 42,
   "id": "9a4fa8c6",
   "metadata": {},
   "outputs": [
    {
     "name": "stdout",
     "output_type": "stream",
     "text": [
      "              precision    recall  f1-score   support\n",
      "\n",
      "           0       0.95      0.99      0.97    206788\n",
      "           1       0.18      0.02      0.04     12123\n",
      "\n",
      "    accuracy                           0.94    218911\n",
      "   macro avg       0.56      0.51      0.50    218911\n",
      "weighted avg       0.90      0.94      0.92    218911\n",
      "\n"
     ]
    }
   ],
   "source": [
    "print(classification_report(y_test,y_pred))"
   ]
  },
  {
   "cell_type": "code",
   "execution_count": null,
   "id": "de3ce82b",
   "metadata": {},
   "outputs": [],
   "source": []
  }
 ],
 "metadata": {
  "kernelspec": {
   "display_name": "Python 3 (ipykernel)",
   "language": "python",
   "name": "python3"
  },
  "language_info": {
   "codemirror_mode": {
    "name": "ipython",
    "version": 3
   },
   "file_extension": ".py",
   "mimetype": "text/x-python",
   "name": "python",
   "nbconvert_exporter": "python",
   "pygments_lexer": "ipython3",
   "version": "3.9.7"
  }
 },
 "nbformat": 4,
 "nbformat_minor": 5
}
