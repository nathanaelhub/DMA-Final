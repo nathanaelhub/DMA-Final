{
 "cells": [
  {
   "cell_type": "code",
   "execution_count": 22,
   "id": "45c2db7f",
   "metadata": {},
   "outputs": [],
   "source": [
    "import pandas as pd\n",
    "import seaborn as sns\n",
    "import numpy as np\n",
    "import matplotlib.pyplot as plt\n",
    "from sklearn.preprocessing import LabelEncoder\n",
    "from sklearn.naive_bayes import MultinomialNB"
   ]
  },
  {
   "cell_type": "code",
   "execution_count": 30,
   "id": "ce3367cb",
   "metadata": {},
   "outputs": [
    {
     "name": "stdout",
     "output_type": "stream",
     "text": [
      "                    current_status     sex      age_group  \\\n",
      "0                    Probable Case  Female  30 - 39 Years   \n",
      "1        Laboratory-confirmed case  Female  30 - 39 Years   \n",
      "2                    Probable Case  Female  30 - 39 Years   \n",
      "3        Laboratory-confirmed case  Female  30 - 39 Years   \n",
      "4        Laboratory-confirmed case  Female  30 - 39 Years   \n",
      "...                            ...     ...            ...   \n",
      "1094546  Laboratory-confirmed case  Female  30 - 39 Years   \n",
      "1094547              Probable Case  Female  30 - 39 Years   \n",
      "1094548  Laboratory-confirmed case  Female  30 - 39 Years   \n",
      "1094549  Laboratory-confirmed case  Female  30 - 39 Years   \n",
      "1094550  Laboratory-confirmed case  Female  30 - 39 Years   \n",
      "\n",
      "        race_ethnicity_combined hosp_yn icu_yn death_yn medcond_yn  \n",
      "0           White, Non-Hispanic      No     No       No        Yes  \n",
      "1           White, Non-Hispanic      No     No       No        Yes  \n",
      "2           White, Non-Hispanic      No     No       No         No  \n",
      "3           White, Non-Hispanic      No     No       No         No  \n",
      "4           White, Non-Hispanic      No     No       No         No  \n",
      "...                         ...     ...    ...      ...        ...  \n",
      "1094546     White, Non-Hispanic      No     No       No        Yes  \n",
      "1094547     White, Non-Hispanic      No     No       No         No  \n",
      "1094548     White, Non-Hispanic     Yes     No       No        Yes  \n",
      "1094549     White, Non-Hispanic      No     No       No         No  \n",
      "1094550     White, Non-Hispanic      No     No       No        Yes  \n",
      "\n",
      "[1077892 rows x 8 columns]\n"
     ]
    }
   ],
   "source": [
    "covid_data = pd.read_csv('covid_cleaned.csv')\n",
    "covid_data = covid_data[covid_data['hosp_yn'] != 'Unknown']\n",
    "covid_data = covid_data[covid_data['hosp_yn'] != 'Missing']\n",
    "del covid_data['cdc_case_earliest_dt ']\n",
    "encoded_data = covid_data.apply(LabelEncoder().fit_transform)\n",
    "print(covid_data)"
   ]
  },
  {
   "cell_type": "code",
   "execution_count": 31,
   "id": "9112e64c",
   "metadata": {},
   "outputs": [
    {
     "name": "stdout",
     "output_type": "stream",
     "text": [
      "death_yn\n",
      "No     0.944622\n",
      "Yes    0.055378\n",
      "dtype: float64\n"
     ]
    }
   ],
   "source": [
    "prior = covid_data.groupby('death_yn').size().div(len(covid_data)) \n",
    "print(prior)"
   ]
  },
  {
   "cell_type": "code",
   "execution_count": 32,
   "id": "fb7f44aa",
   "metadata": {},
   "outputs": [
    {
     "name": "stdout",
     "output_type": "stream",
     "text": [
      "{'sex': death_yn  sex   \n",
      "No        Female    0.542005\n",
      "          Male      0.457979\n",
      "          Other     0.000016\n",
      "Yes       Female    0.427200\n",
      "          Male      0.572800\n",
      "dtype: float64, 'race_ethnicity_combined': death_yn  race_ethnicity_combined                             \n",
      "No        American Indian/Alaska Native, Non-Hispanic             0.004226\n",
      "          Asian, Non-Hispanic                                     0.025735\n",
      "          Black, Non-Hispanic                                     0.095445\n",
      "          Hispanic/Latino                                         0.162691\n",
      "          Multiple/Other, Non-Hispanic                            0.021310\n",
      "          Native Hawaiian/Other Pacific Islander, Non-Hispanic    0.005643\n",
      "          White, Non-Hispanic                                     0.684950\n",
      "Yes       American Indian/Alaska Native, Non-Hispanic             0.008376\n",
      "          Asian, Non-Hispanic                                     0.035047\n",
      "          Black, Non-Hispanic                                     0.167596\n",
      "          Hispanic/Latino                                         0.116399\n",
      "          Multiple/Other, Non-Hispanic                            0.017909\n",
      "          Native Hawaiian/Other Pacific Islander, Non-Hispanic    0.004842\n",
      "          White, Non-Hispanic                                     0.649830\n",
      "dtype: float64, 'hosp_yn': death_yn  hosp_yn\n",
      "No        No         0.88072\n",
      "          Yes        0.11928\n",
      "Yes       No         0.10097\n",
      "          Yes        0.89903\n",
      "dtype: float64, 'icu_yn': death_yn  icu_yn\n",
      "No        No        0.976609\n",
      "          Yes       0.023188\n",
      "          nul       0.000203\n",
      "Yes       No        0.401853\n",
      "          Yes       0.598147\n",
      "dtype: float64, 'current_status': death_yn  current_status           \n",
      "No        Laboratory-confirmed case    0.885310\n",
      "          Probable Case                0.114690\n",
      "Yes       Laboratory-confirmed case    0.937344\n",
      "          Probable Case                0.062656\n",
      "dtype: float64, 'medcond_yn': death_yn  medcond_yn\n",
      "No        No            0.591467\n",
      "          Yes           0.408533\n",
      "Yes       No            0.096648\n",
      "          Yes           0.903352\n",
      "dtype: float64}\n"
     ]
    }
   ],
   "source": [
    "likelihood = {}\n",
    "likelihood['sex'] = covid_data.groupby(['death_yn', 'sex']).size().div(len(covid_data)).div(prior)\n",
    "likelihood['race_ethnicity_combined'] = covid_data.groupby(['death_yn', 'race_ethnicity_combined']).size().div(len(covid_data)).div(prior)\n",
    "likelihood['hosp_yn'] = covid_data.groupby(['death_yn', 'hosp_yn']).size().div(len(covid_data)).div(prior)\n",
    "likelihood['icu_yn'] = covid_data.groupby(['death_yn', 'icu_yn']).size().div(len(covid_data)).div(prior)\n",
    "likelihood['current_status'] = covid_data.groupby(['death_yn', 'current_status']).size().div(len(covid_data)).div(prior)\n",
    "likelihood['medcond_yn'] = covid_data.groupby(['death_yn', 'medcond_yn']).size().div(len(covid_data)).div(prior)\n",
    "\n",
    "print (likelihood)"
   ]
  },
  {
   "cell_type": "code",
   "execution_count": 35,
   "id": "e4a1f697",
   "metadata": {},
   "outputs": [
    {
     "name": "stdout",
     "output_type": "stream",
     "text": [
      "[[ -9.134292   -14.36668145]]\n",
      "Prediction of :  [0]\n"
     ]
    }
   ],
   "source": [
    "clf = MultinomialNB()\n",
    "clf.fit(encoded_data.drop(['death_yn'], axis=1), encoded_data['death_yn'])\n",
    "\n",
    "\n",
    "# {\"Lab Confirmed\": 'No', \"Sex\": 'Male',\"Age\":'20-29', \"Race\":\"White\", \"Hospitalized\":'no' , \"ICU\":'no', \"Underlying Condition\": 'no'}\n",
    "\n",
    "X = np.array([0,1,2,6,0,0,0])\n",
    "print (clf._joint_log_likelihood(X.reshape(1,-1)))\n",
    "print (\"Prediction of : \", clf.predict(X.reshape(1,-1)))\n",
    "\n"
   ]
  },
  {
   "cell_type": "code",
   "execution_count": null,
   "id": "c83f1348",
   "metadata": {},
   "outputs": [],
   "source": []
  },
  {
   "cell_type": "code",
   "execution_count": null,
   "id": "6076d203",
   "metadata": {},
   "outputs": [],
   "source": []
  }
 ],
 "metadata": {
  "kernelspec": {
   "display_name": "Python 3 (ipykernel)",
   "language": "python",
   "name": "python3"
  },
  "language_info": {
   "codemirror_mode": {
    "name": "ipython",
    "version": 3
   },
   "file_extension": ".py",
   "mimetype": "text/x-python",
   "name": "python",
   "nbconvert_exporter": "python",
   "pygments_lexer": "ipython3",
   "version": "3.9.7"
  }
 },
 "nbformat": 4,
 "nbformat_minor": 5
}
