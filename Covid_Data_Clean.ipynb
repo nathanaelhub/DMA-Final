{
 "cells": [
  {
   "cell_type": "code",
   "execution_count": 91,
   "id": "5b544c6e",
   "metadata": {},
   "outputs": [],
   "source": [
    "import pandas as pd\n",
    "import numpy as np\n",
    "covid_data = pd.read_csv('COVID-19_Case_Surveillance_Public_Use_Data.csv')\n"
   ]
  },
  {
   "cell_type": "code",
   "execution_count": 92,
   "id": "ddf44c8d",
   "metadata": {},
   "outputs": [],
   "source": [
    "del covid_data['pos_spec_dt']\n",
    "del covid_data['cdc_report_dt']\n",
    "del covid_data['onset_dt']\n"
   ]
  },
  {
   "cell_type": "code",
   "execution_count": null,
   "id": "22248eb8",
   "metadata": {},
   "outputs": [],
   "source": []
  },
  {
   "cell_type": "code",
   "execution_count": 93,
   "id": "d959759d",
   "metadata": {
    "scrolled": false
   },
   "outputs": [],
   "source": [
    "covid_data = covid_data[covid_data['medcond_yn'] != 'Missing']"
   ]
  },
  {
   "cell_type": "code",
   "execution_count": 94,
   "id": "d4a44bc0",
   "metadata": {},
   "outputs": [],
   "source": [
    "covid_data = covid_data[covid_data['icu_yn'] != 'Missing']"
   ]
  },
  {
   "cell_type": "code",
   "execution_count": 95,
   "id": "7c4bc2c7",
   "metadata": {},
   "outputs": [],
   "source": [
    "covid_data = covid_data[covid_data['death_yn'] != 'Missing']"
   ]
  },
  {
   "cell_type": "code",
   "execution_count": 96,
   "id": "15941c15",
   "metadata": {},
   "outputs": [],
   "source": [
    "covid_data = covid_data[covid_data['race_ethnicity_combined'] != 'Missing']"
   ]
  },
  {
   "cell_type": "code",
   "execution_count": 97,
   "id": "4c2c3a3e",
   "metadata": {},
   "outputs": [],
   "source": [
    "covid_data = covid_data[covid_data['age_group'] != 'Missing']"
   ]
  },
  {
   "cell_type": "code",
   "execution_count": 98,
   "id": "475243bd",
   "metadata": {},
   "outputs": [],
   "source": [
    "covid_data = covid_data[covid_data['sex'] != 'Missing']"
   ]
  },
  {
   "cell_type": "code",
   "execution_count": 99,
   "id": "7acb27ae",
   "metadata": {},
   "outputs": [],
   "source": [
    "covid_data = covid_data[covid_data['current_status'] != 'Missing']"
   ]
  },
  {
   "cell_type": "code",
   "execution_count": 100,
   "id": "73bf1149",
   "metadata": {},
   "outputs": [],
   "source": [
    "covid_data = covid_data[covid_data['medcond_yn'] != 'Unknown']"
   ]
  },
  {
   "cell_type": "code",
   "execution_count": 101,
   "id": "61516d7c",
   "metadata": {},
   "outputs": [],
   "source": [
    "covid_data = covid_data[covid_data['icu_yn'] != 'Unknown']"
   ]
  },
  {
   "cell_type": "code",
   "execution_count": 102,
   "id": "b039dffd",
   "metadata": {},
   "outputs": [],
   "source": [
    "covid_data = covid_data[covid_data['death_yn'] != 'Unknown']"
   ]
  },
  {
   "cell_type": "code",
   "execution_count": 103,
   "id": "2f3aae4c",
   "metadata": {},
   "outputs": [],
   "source": [
    "covid_data = covid_data[covid_data['race_ethnicity_combined'] != 'Unknown']"
   ]
  },
  {
   "cell_type": "code",
   "execution_count": 104,
   "id": "dc9cacea",
   "metadata": {},
   "outputs": [],
   "source": [
    "covid_data = covid_data[covid_data['age_group'] != 'Unknown']"
   ]
  },
  {
   "cell_type": "code",
   "execution_count": 105,
   "id": "80cee053",
   "metadata": {},
   "outputs": [],
   "source": [
    "covid_data = covid_data[covid_data['sex'] != 'Unknown']"
   ]
  },
  {
   "cell_type": "code",
   "execution_count": 106,
   "id": "74de9ecb",
   "metadata": {},
   "outputs": [],
   "source": [
    " covid_data = covid_data[covid_data['current_status'] != 'Unknown']"
   ]
  },
  {
   "cell_type": "code",
   "execution_count": 107,
   "id": "d4402d33",
   "metadata": {},
   "outputs": [],
   "source": [
    "covid_data = covid_data[covid_data['hosp_yn'] != 'Unknown']"
   ]
  },
  {
   "cell_type": "code",
   "execution_count": 108,
   "id": "610a71dd",
   "metadata": {},
   "outputs": [],
   "source": [
    "covid_data = covid_data[covid_data['hosp_yn'] != 'Missing']"
   ]
  },
  {
   "cell_type": "code",
   "execution_count": 109,
   "id": "dd075c5d",
   "metadata": {},
   "outputs": [],
   "source": [
    "covid_data.to_csv('covid_cleaned_1.csv', encoding='utf-8', index=False)"
   ]
  },
  {
   "cell_type": "code",
   "execution_count": null,
   "id": "9dfc4b6a",
   "metadata": {},
   "outputs": [],
   "source": []
  }
 ],
 "metadata": {
  "kernelspec": {
   "display_name": "Python 3 (ipykernel)",
   "language": "python",
   "name": "python3"
  },
  "language_info": {
   "codemirror_mode": {
    "name": "ipython",
    "version": 3
   },
   "file_extension": ".py",
   "mimetype": "text/x-python",
   "name": "python",
   "nbconvert_exporter": "python",
   "pygments_lexer": "ipython3",
   "version": "3.9.7"
  }
 },
 "nbformat": 4,
 "nbformat_minor": 5
}
